{
 "cells": [
  {
   "cell_type": "markdown",
   "id": "01697bf2",
   "metadata": {},
   "source": [
    "# Medical Cost Personal Insurance Project"
   ]
  },
  {
   "cell_type": "markdown",
   "id": "c5947550",
   "metadata": {},
   "source": [
    "# import Required Libraries:"
   ]
  },
  {
   "cell_type": "code",
   "execution_count": null,
   "id": "9588adfa",
   "metadata": {},
   "outputs": [],
   "source": [
    "import pandas as pd\n",
    "from sklearn.model_selection import train_test_split\n",
    "from xgboost import XGBClassifier\n",
    "from sklearn.metrics import accuracy_score, classification_report, confusion_matrix"
   ]
  },
  {
   "cell_type": "markdown",
   "id": "3bd2b5f1",
   "metadata": {},
   "source": [
    "# Load Data"
   ]
  },
  {
   "cell_type": "code",
   "execution_count": null,
   "id": "c3a4daaf",
   "metadata": {},
   "outputs": [],
   "source": [
    "import pandas as pd\n",
    "import numpy as np\n",
    "import matplotlib.pyplot as plt\n",
    "import seaborn as sns"
   ]
  },
  {
   "cell_type": "code",
   "execution_count": null,
   "id": "35bf998c",
   "metadata": {},
   "outputs": [],
   "source": [
    "# loading the csv data to a pandas DataFrame\n",
    "insurance_data = pd.read_csv(\"insurance.csv\")\n",
    "insurance_data"
   ]
  },
  {
   "cell_type": "code",
   "execution_count": null,
   "id": "16f6322f",
   "metadata": {},
   "outputs": [],
   "source": [
    "         age  sex      bmi      children  smoker  region      charges\n",
    "\n",
    "     0     19    female   27.900    0          yes    southwest   16884.92400\n",
    "     1     18    male     33.770    1          no     southwest   1725.55230\n",
    "     2     28    male     33.000    3          no     southwest   4449.46200\n",
    "     3     33    male     22.705    0          no     northwest   21984.47061\n",
    "     4     32    male     28.880    0          no     northwest   3866.85520\n",
    "    \n",
    "    ---   ---    ---     ---       ---        ---     ---          ---\n",
    "    1333   50    male     30.970    3          no     northwest    10600.54830\n",
    "    1334   18    female   31.920    0          no     northwest    2205.98080\n",
    "    1335   18    female   36.850    0          no     southwest    1629.83350\n",
    "    1336   21    female   25.800    0          no     southwest    2007.94500\n",
    "    1337   61    female   29.070    0          yes    southwest    29141.36030\n",
    "\n",
    "   1338 rows * 7 columns\n",
    "    \n"
   ]
  },
  {
   "cell_type": "code",
   "execution_count": null,
   "id": "6814774a",
   "metadata": {},
   "outputs": [],
   "source": [
    "# print first 5 rows of the dataset \n",
    "insurance_data.head()"
   ]
  },
  {
   "cell_type": "code",
   "execution_count": null,
   "id": "c59c51fe",
   "metadata": {},
   "outputs": [],
   "source": [
    "  age   sex    bmi    children   smoker    region  charges  \n",
    "   \n",
    "     0     19    female   27.900    0          yes    southwest   16884.92400\n",
    "     1     18    male     33.770    1          no     southwest   1725.55230\n",
    "     2     28    male     33.000    3          no     southwest   4449.46200\n",
    "     3     33    male     22.705    0          no     northwest   21984.47061\n",
    "     4     32    male     28.880    0          no     northwest   3866.85520\n",
    "    \n",
    "    \n",
    "    "
   ]
  },
  {
   "cell_type": "code",
   "execution_count": null,
   "id": "b45a57c5",
   "metadata": {},
   "outputs": [],
   "source": [
    "insurance_data.tail()"
   ]
  },
  {
   "cell_type": "code",
   "execution_count": null,
   "id": "58e6fd3a",
   "metadata": {},
   "outputs": [],
   "source": [
    "     \n",
    "           age   sex      bmi       children   smoker  region     charges\n",
    "    \n",
    "    1333   50    male     30.970    3          no     northwest    10600.54830\n",
    "    1334   18    female   31.920    0          no     northwest    2205.98080\n",
    "    1335   18    female   36.850    0          no     southwest    1629.83350\n",
    "    1336   21    female   25.800    0          no     southwest    2007.94500\n",
    "    1337   61    female   29.070    0          yes    southwest    29141.36030\n"
   ]
  },
  {
   "cell_type": "markdown",
   "id": "2cc9b2a0",
   "metadata": {},
   "source": [
    "# Number of Records & Columns"
   ]
  },
  {
   "cell_type": "code",
   "execution_count": null,
   "id": "eb80f3a5",
   "metadata": {},
   "outputs": [],
   "source": [
    "insurance_data.shape"
   ]
  },
  {
   "cell_type": "code",
   "execution_count": null,
   "id": "814d2ab4",
   "metadata": {},
   "outputs": [],
   "source": [
    "(1338,7)"
   ]
  },
  {
   "cell_type": "markdown",
   "id": "da284e4f",
   "metadata": {},
   "source": [
    "# List of Columns"
   ]
  },
  {
   "cell_type": "code",
   "execution_count": null,
   "id": "7a405092",
   "metadata": {},
   "outputs": [],
   "source": [
    "Index(['age','sex','bmi','children','smoker','region','charges'],dtype='obhect')"
   ]
  },
  {
   "cell_type": "markdown",
   "id": "37e27684",
   "metadata": {},
   "source": [
    "# column Datatype:"
   ]
  },
  {
   "cell_type": "code",
   "execution_count": null,
   "id": "6e4acfda",
   "metadata": {},
   "outputs": [],
   "source": [
    "insuernce_data.dtypes"
   ]
  },
  {
   "cell_type": "code",
   "execution_count": null,
   "id": "67a80a7d",
   "metadata": {},
   "outputs": [],
   "source": [
    "age        int64\n",
    "sex        object\n",
    "bmi        float64\n",
    "children   int64\n",
    "smoker     object\n",
    "region     object\n",
    "charges    float64\n",
    "dtype: boject"
   ]
  },
  {
   "cell_type": "markdown",
   "id": "6f7c6c54",
   "metadata": {},
   "source": [
    "# Data Information:"
   ]
  },
  {
   "cell_type": "code",
   "execution_count": null,
   "id": "14bda074",
   "metadata": {},
   "outputs": [],
   "source": [
    "<class'pandas.core.frame.dataframe'>\n",
    "RangeIndex: 1338 entries, 0 to 1337\n",
    "Data columns (total 7 columns):\n",
    "    #       column      non-Null count         Dtype\n",
    "    ---     ------      -----------------      -------\n",
    "    0        age         1338 non-null         int64\n",
    "    1        sex         1338 non-null         object\n",
    "    2        bmi         1338 non-null         float64\n",
    "    3        children    1338 non-null         int64\n",
    "    4        smoker      1338 non-null         object\n",
    "    5        region      1338 non-null         object\n",
    "    6        charges     1338 non-null         float64\n",
    "    dtypes: float64(2), int64(2), object(3)\n",
    "    memory usage: 73.3+ KB"
   ]
  },
  {
   "cell_type": "markdown",
   "id": "28134e7e",
   "metadata": {},
   "source": [
    "# Check for Duplicate Records:"
   ]
  },
  {
   "cell_type": "code",
   "execution_count": null,
   "id": "4ef9073a",
   "metadata": {},
   "outputs": [],
   "source": [
    "insurance_data.duplicated() .any()"
   ]
  },
  {
   "cell_type": "markdown",
   "id": "2ca004db",
   "metadata": {},
   "source": [
    "# True"
   ]
  },
  {
   "cell_type": "code",
   "execution_count": null,
   "id": "355483c6",
   "metadata": {},
   "outputs": [],
   "source": [
    "insurance_data[insurance_data.duplicated()]"
   ]
  },
  {
   "cell_type": "code",
   "execution_count": null,
   "id": "b8295dfd",
   "metadata": {},
   "outputs": [],
   "source": [
    "        age    sex     bmi      children   smoker  region      charges  \n",
    " 581 19         male   30.59      0         no      northwest   1639.5631\n",
    "    "
   ]
  },
  {
   "cell_type": "code",
   "execution_count": null,
   "id": "22363060",
   "metadata": {},
   "outputs": [],
   "source": [
    "insurance_data = insurance_data.drop_duplicate()"
   ]
  },
  {
   "cell_type": "code",
   "execution_count": null,
   "id": "0fac3289",
   "metadata": {},
   "outputs": [],
   "source": [
    "insurance_data.shape"
   ]
  },
  {
   "cell_type": "code",
   "execution_count": null,
   "id": "8bee2ecd",
   "metadata": {},
   "outputs": [],
   "source": [
    "(1337,7)"
   ]
  },
  {
   "cell_type": "markdown",
   "id": "e47aa694",
   "metadata": {},
   "source": [
    "# check for missing values:"
   ]
  },
  {
   "cell_type": "code",
   "execution_count": null,
   "id": "e3ce3814",
   "metadata": {},
   "outputs": [],
   "source": [
    "nsurance_data1.isnull().any()"
   ]
  },
  {
   "cell_type": "code",
   "execution_count": null,
   "id": "1d284b95",
   "metadata": {},
   "outputs": [],
   "source": [
    "age       False\n",
    "sex       False\n",
    "bmi       False\n",
    "children  False\n",
    "smoker    False\n",
    "region    False\n",
    "charges   False\n",
    "dtype: bool\n"
   ]
  },
  {
   "cell_type": "code",
   "execution_count": null,
   "id": "22fa2e87",
   "metadata": {},
   "outputs": [],
   "source": [
    "insurance_data1.isnull().sum()"
   ]
  },
  {
   "cell_type": "code",
   "execution_count": null,
   "id": "a61f9f8c",
   "metadata": {},
   "outputs": [],
   "source": [
    "age          0\n",
    "sex          0\n",
    "bmi          0\n",
    "children     0\n",
    "smoker       0 \n",
    "region       0\n",
    "charges      0\n",
    "dtype: int64"
   ]
  },
  {
   "cell_type": "markdown",
   "id": "41772963",
   "metadata": {},
   "source": [
    "# List of categorical and Numeric columns:"
   ]
  },
  {
   "cell_type": "code",
   "execution_count": null,
   "id": "dd4dc7a4",
   "metadata": {},
   "outputs": [],
   "source": [
    " Check the data types of each column\n",
    "data_types = data.dtypes\n",
    "\n",
    "# Separate categorical and numerical columns\n",
    "categorical_columns = data_types[data_types == 'object'].index.tolist()\n",
    "numerical_columns = data_types[data_types != 'object'].index.tolist()\n",
    "\n",
    "print(\"Categorical Columns:\", categorical_columns)\n",
    "print(\"Numerical Columns:\", numerical_columns)"
   ]
  },
  {
   "cell_type": "markdown",
   "id": "11f4b7a9",
   "metadata": {},
   "source": [
    "# Statistical Measure Of Numeric Columns:"
   ]
  },
  {
   "cell_type": "code",
   "execution_count": null,
   "id": "bac9e2e8",
   "metadata": {},
   "outputs": [],
   "source": [
    "    insurance_data.describe()"
   ]
  },
  {
   "cell_type": "code",
   "execution_count": null,
   "id": "9b4f56c9",
   "metadata": {},
   "outputs": [],
   "source": [
    "              age                bmi              children          charges\n",
    "    count     1337.000000        1337.000000      1337.0000000      1337.000000\n",
    "    mean      39.222139          30663452         1.095737          13279.121487\n",
    "     std      14.044333           6.100468        1.205571          12110.359656\n",
    "     min      18.000000           15.960000       0.000000          1121.873900\n",
    "     25%      27.000000           26.290000       0.000000          4746.344000\n",
    "     50%      39.000000           34.700000       1.000000          16657.717450\n",
    "     75%      51.000000           34.700000       2.000000          16657.717450\n",
    "    max       64.000000           53.130000       5.000000          63770.428010"
   ]
  },
  {
   "cell_type": "markdown",
   "id": "9adc570d",
   "metadata": {},
   "source": [
    "# Statistical Measure Of Numeric Columns"
   ]
  },
  {
   "cell_type": "code",
   "execution_count": null,
   "id": "98a1f921",
   "metadata": {},
   "outputs": [],
   "source": [
    "insurance_data1.describe(exclude=\"number\")"
   ]
  },
  {
   "cell_type": "code",
   "execution_count": null,
   "id": "9fd6e349",
   "metadata": {},
   "outputs": [],
   "source": [
    "           sex    smoker     region  \n",
    "    count   1337   1337      1337\n",
    "    unique   2      2         4\n",
    "    top      male    no      southwest\n",
    "    feeq     675     1063     364\n",
    "    "
   ]
  },
  {
   "cell_type": "code",
   "execution_count": null,
   "id": "8768c846",
   "metadata": {},
   "outputs": [],
   "source": [
    "insurance_data['sex'.value_count()"
   ]
  },
  {
   "cell_type": "code",
   "execution_count": null,
   "id": "e101434c",
   "metadata": {},
   "outputs": [],
   "source": [
    "sex    \n",
    "male     675\n",
    "female   662\n",
    "Name     count, dtype:int64\n",
    "    "
   ]
  },
  {
   "cell_type": "code",
   "execution_count": null,
   "id": "0b80c0b9",
   "metadata": {},
   "outputs": [],
   "source": [
    "insurance_data['smoker'].value_count()"
   ]
  },
  {
   "cell_type": "code",
   "execution_count": null,
   "id": "68f52d90",
   "metadata": {},
   "outputs": [],
   "source": [
    "smoker   \n",
    "no           1063\n",
    "yes          274\n",
    "name: count,dtype: int64\n",
    "        "
   ]
  },
  {
   "cell_type": "code",
   "execution_count": null,
   "id": "3b9a694f",
   "metadata": {},
   "outputs": [],
   "source": [
    "insurance_data['region'].value_count()"
   ]
  },
  {
   "cell_type": "code",
   "execution_count": null,
   "id": "a3881ace",
   "metadata": {},
   "outputs": [],
   "source": [
    "region\n",
    "soutwest     364\n",
    "soutwest     325\n",
    "northwest    324\n",
    "nortwest     324\n",
    "name:count,dtype : int64"
   ]
  },
  {
   "cell_type": "markdown",
   "id": "2819beaf",
   "metadata": {},
   "source": [
    "# Data Visualization :"
   ]
  },
  {
   "cell_type": "markdown",
   "id": "0d0def2e",
   "metadata": {},
   "source": [
    "# Histogram : numeric  Cloumns:"
   ]
  },
  {
   "cell_type": "code",
   "execution_count": null,
   "id": "ef893525",
   "metadata": {},
   "outputs": [],
   "source": [
    "import matplotlib.pyplot as plt\n",
    "\n",
    "# Select numeric columns\n",
    "numeric_columns = data.select_dtypes(include=['int64', 'float64']).columns\n",
    "\n",
    "# Plot histograms for numeric columns\n",
    "for column in numeric_columns:\n",
    "    plt.figure(figsize=(8, 6))\n",
    "    plt.hist(data[column], bins=30, color='skyblue', edgecolor='black')\n",
    "    plt.title(f'Distribution of {column}')\n",
    "    plt.xlabel(column)\n",
    "    plt.ylabel('Frequency')\n",
    "    plt.grid(True)\n",
    "    plt.show()"
   ]
  },
  {
   "cell_type": "markdown",
   "id": "205880ad",
   "metadata": {},
   "source": [
    "# Bar Graph - Categorical cloumns :"
   ]
  },
  {
   "cell_type": "code",
   "execution_count": null,
   "id": "158a924b",
   "metadata": {},
   "outputs": [],
   "source": [
    "import matplotlib.pyplot as plt\n",
    "\n",
    "# Select categorical columns\n",
    "categorical_columns = data.select_dtypes(include=['object']).columns\n",
    "\n",
    "# Plot bar graphs for categorical columns\n",
    "for column in categorical_columns:\n",
    "    plt.figure(figsize=(8, 6))\n",
    "    data[column].value_counts().plot(kind='bar', color='skyblue')\n",
    "    plt.title(f'Bar Graph of {column}')\n",
    "    plt.xlabel(column)\n",
    "    plt.ylabel('Frequency')\n",
    "    plt.xticks(rotation=45)  # Rotate x-axis labels for better readability\n",
    "    plt.grid(axis='y')\n",
    "    plt.show()"
   ]
  },
  {
   "cell_type": "markdown",
   "id": "d440be16",
   "metadata": {},
   "source": [
    "# Box Plot Numeric Columns:\n",
    "\n"
   ]
  },
  {
   "cell_type": "code",
   "execution_count": null,
   "id": "fb80cb11",
   "metadata": {},
   "outputs": [],
   "source": [
    "import matplotlib.pyplot as plt\n",
    "\n",
    "# Select numeric columns\n",
    "numeric_columns = data.select_dtypes(include=['int64', 'float64']).columns\n",
    "\n",
    "# Plot box plots for numeric columns\n",
    "for column in numeric_columns:\n",
    "    plt.figure(figsize=(8, 6))\n",
    "    plt.boxplot(data[column], vert=False)\n",
    "    plt.title(f'Box Plot of {column}')\n",
    "    plt.xlabel(column)\n",
    "    plt.grid(True)\n",
    "    plt.show()"
   ]
  },
  {
   "cell_type": "markdown",
   "id": "d1b04fb4",
   "metadata": {},
   "source": [
    "# Pie chart - Region"
   ]
  },
  {
   "cell_type": "code",
   "execution_count": null,
   "id": "114baaaa",
   "metadata": {},
   "outputs": [],
   "source": [
    "import matplotlib.pyplot as plt\n",
    "\n",
    "# Calculate frequency of each category in the 'Region' column\n",
    "region_counts = data['Region'].value_counts()\n",
    "\n",
    "# Plot pie chart\n",
    "plt.figure(figsize=(8, 6))\n",
    "plt.pie(region_counts, labels=region_counts.index, autopct='%1.1f%%', colors=plt.cm.tab20.colors)\n",
    "plt.title('Pie Chart of Region')\n",
    "plt.axis('equal')  # Equal aspect ratio ensures that pie is drawn as a circle\n",
    "plt.show()"
   ]
  },
  {
   "cell_type": "markdown",
   "id": "28506697",
   "metadata": {},
   "source": [
    "# correlation Matrix:"
   ]
  },
  {
   "cell_type": "code",
   "execution_count": null,
   "id": "32bc0cf4",
   "metadata": {},
   "outputs": [],
   "source": [
    "import seaborn as sns\n",
    "\n",
    "# Calculate correlation matrix for numerical columns\n",
    "corr_matrix = data.corr()\n",
    "\n",
    "# Plot correlation matrix as a heatmap\n",
    "plt.figure(figsize=(10, 8))\n",
    "sns.heatmap(corr_matrix, annot=True, cmap='coolwarm', fmt='.2f', linewidths=0.5)\n",
    "plt.title('Correlation Matrix')\n",
    "plt.show()"
   ]
  },
  {
   "cell_type": "markdown",
   "id": "1009815a",
   "metadata": {},
   "source": [
    "# Scatter Plot:"
   ]
  },
  {
   "cell_type": "code",
   "execution_count": null,
   "id": "1d63842d",
   "metadata": {},
   "outputs": [],
   "source": [
    "import seaborn as sns\n",
    "\n",
    "# Select two numerical columns for the scatter plot\n",
    "column1 = 'alcohol'  # Example column 1\n",
    "column2 = 'density'  # Example column 2\n",
    "\n",
    "# Create scatter plot\n",
    "plt.figure(figsize=(8, 6))\n",
    "sns.scatterplot(x=column1, y=column2, data=data, color='purple')\n",
    "plt.title(f'Scatter Plot of {column1} vs {column2}')\n",
    "plt.xlabel(column1)\n",
    "plt.ylabel(column2)\n",
    "plt.grid(True)\n",
    "plt.show()"
   ]
  },
  {
   "cell_type": "markdown",
   "id": "d1aafbe9",
   "metadata": {},
   "source": [
    "# Insurance Cost For SMoker and Non Smoker:"
   ]
  },
  {
   "cell_type": "code",
   "execution_count": null,
   "id": "a64ea119",
   "metadata": {},
   "outputs": [],
   "source": [
    "smoker_df = insurance_ data1.groupby(\"smoker\")[\"charges\"].mean().reset_index)()\n",
    "smoker"
   ]
  },
  {
   "cell_type": "code",
   "execution_count": null,
   "id": "505bf50b",
   "metadata": {},
   "outputs": [],
   "source": [
    "        smoker      charges\n",
    "    0   no          8440.680307\n",
    "    1   yes         32050.231832\n"
   ]
  },
  {
   "cell_type": "markdown",
   "id": "0d4e8f47",
   "metadata": {},
   "source": [
    "# Insurance cost male and female :"
   ]
  },
  {
   "cell_type": "code",
   "execution_count": null,
   "id": "b815941d",
   "metadata": {},
   "outputs": [],
   "source": [
    "import seaborn as sns\n",
    "\n",
    "# Create a box plot to compare insurance costs for males and females\n",
    "plt.figure(figsize=(8, 6))\n",
    "sns.boxplot(x='sex', y='charges', data=data, palette='Set1')\n",
    "plt.title('Insurance Cost for Males and Females')\n",
    "plt.xlabel('Sex')\n",
    "plt.ylabel('Charges')\n",
    "plt.show()"
   ]
  },
  {
   "cell_type": "markdown",
   "id": "107d43e3",
   "metadata": {},
   "source": [
    "# Region wise  insurance cost"
   ]
  },
  {
   "cell_type": "code",
   "execution_count": null,
   "id": "135c45aa",
   "metadata": {},
   "outputs": [],
   "source": [
    "import seaborn as sns\n",
    "\n",
    "# Create a box plot to compare insurance costs by region\n",
    "plt.figure(figsize=(10, 6))\n",
    "sns.boxplot(x='region', y='charges', data=data, palette='Set3')\n",
    "plt.title('Insurance Cost by Region')\n",
    "plt.xlabel('Region')\n",
    "plt.ylabel('Charges')\n",
    "plt.show()"
   ]
  },
  {
   "cell_type": "markdown",
   "id": "b8db50ad",
   "metadata": {},
   "source": [
    "# Region wise BMI:"
   ]
  },
  {
   "cell_type": "code",
   "execution_count": null,
   "id": "7f42f5c9",
   "metadata": {},
   "outputs": [],
   "source": [
    "mport seaborn as sns\n",
    "\n",
    "# Create a box plot to compare BMI by region\n",
    "plt.figure(figsize=(10, 6))\n",
    "sns.boxplot(x='region', y='bmi', data=data, palette='Set2')\n",
    "plt.title('BMI by Region')\n",
    "plt.xlabel('Region')\n",
    "plt.ylabel('BMI')\n",
    "plt.show()"
   ]
  },
  {
   "cell_type": "markdown",
   "id": "4c0d87d7",
   "metadata": {},
   "source": [
    "# Region wisw Male and Female and Cost:\n"
   ]
  },
  {
   "cell_type": "code",
   "execution_count": null,
   "id": "5f56043e",
   "metadata": {},
   "outputs": [],
   "source": [
    "mport seaborn as sns\n",
    "import matplotlib.pyplot as plt\n",
    "\n",
    "# Create a bar plot to compare total insurance costs by gender and region\n",
    "plt.figure(figsize=(12, 6))\n",
    "sns.barplot(x='region', y='charges', hue='sex', data=data, estimator=sum, ci=None, palette='Set1')\n",
    "plt.title('Total Insurance Cost by Gender and Region')\n",
    "plt.xlabel('Region')\n",
    "plt.ylabel('Total Charges')\n",
    "plt.legend(title='Sex')\n",
    "plt.show()\n",
    "\n",
    "# Create a box plot to compare insurance costs by gender within each region\n",
    "plt.figure(figsize=(12, 6))\n",
    "sns.boxplot(x='region', y='charges', hue='sex', data=data, palette='Set2')\n",
    "plt.title('Insurance Cost by Gender and Region')\n",
    "plt.xlabel('Region')\n",
    "plt.ylabel('Charges')\n",
    "plt.legend(title='Sex')\n",
    "plt.show()"
   ]
  },
  {
   "cell_type": "markdown",
   "id": "dd5a5cb2",
   "metadata": {},
   "source": [
    "# Machine Learing  Model Development:"
   ]
  },
  {
   "cell_type": "code",
   "execution_count": null,
   "id": "473756e9",
   "metadata": {},
   "outputs": [],
   "source": [
    "import pandas as pd\n",
    "from sklearn.model_selection import train_test_split\n",
    "from sklearn.linear_model import LogisticRegression\n",
    "from sklearn.metrics import accuracy_score\n",
    "\n",
    "# Load the dataset\n",
    "data = pd.read_csv(\"titanic.csv\")\n",
    "\n",
    "# Preprocess the data (e.g., handle missing values, encode categorical variables)\n",
    "# For example, drop irrelevant columns and fill missing values\n",
    "data.drop(['PassengerId', 'Name', 'Ticket', 'Cabin'], axis=1, inplace=True)\n",
    "data['Age'].fillna(data['Age'].median(), inplace=True)\n",
    "data['Embarked'].fillna(data['Embarked'].mode()[0], inplace=True)\n",
    "data = pd.get_dummies(data, columns=['Sex', 'Embarked'], drop_first=True)\n",
    "\n",
    "# Split the data into features and target variable\n",
    "X = data.drop(\"Survived\", axis=1)\n",
    "y = data[\"Survived\"]\n",
    "\n",
    "# Split the data into training and testing sets\n",
    "X_train, X_test, y_train, y_test = train_test_split(X, y, test_size=0.2, random_state=42)\n",
    "\n",
    "# Initialize and train the model (e.g., Logistic Regression)\n",
    "model = LogisticRegression()\n",
    "model.fit(X_train, y_train)\n",
    "\n",
    "# Make predictions\n",
    "y_pred = model.predict(X_test)\n",
    "\n",
    "# Evaluate the model\n",
    "accuracy = accuracy_score(y_test, y_pred)\n",
    "print(\"Accuracy:\", accuracy)"
   ]
  },
  {
   "cell_type": "markdown",
   "id": "31791751",
   "metadata": {},
   "source": [
    "# label encoding :"
   ]
  },
  {
   "cell_type": "code",
   "execution_count": null,
   "id": "50b94a43",
   "metadata": {},
   "outputs": [],
   "source": [
    "import pandas as pd\n",
    "from sklearn.model_selection import train_test_split\n",
    "from sklearn.linear_model import LinearRegression\n",
    "from sklearn.metrics import mean_squared_error, r2_score\n",
    "\n",
    "# Load the dataset\n",
    "data = pd.read_csv(\"insurance.csv\")\n",
    "\n",
    "# Convert categorical variables to numerical using one-hot encoding\n",
    "data = pd.get_dummies(data, columns=[\"sex\", \"smoker\", \"region\"])\n",
    "\n",
    "# Split the data into features (X) and target variable (y)\n",
    "X = data.drop(\"charges\", axis=1)\n",
    "y = data[\"charges\"]\n",
    "\n",
    "# Split the data into training and testing sets\n",
    "X_train, X_test, y_train, y_test = train_test_split(X, y, test_size=0.2, random_state=42)\n",
    "\n",
    "# Initialize and train the model (Linear Regression)\n",
    "model = LinearRegression()\n",
    "model.fit(X_train, y_train)\n",
    "\n",
    "# Make predictions\n",
    "y_pred = model.predict(X_test)\n",
    "\n",
    "# Evaluate the model\n",
    "mse = mean_squared_error(y_test, y_pred)\n",
    "r2 = r2_score(y_test, y_pred)\n",
    "print(\"Mean Squared Error:\", mse)\n",
    "print(\"R-squared:\", r2)"
   ]
  },
  {
   "cell_type": "markdown",
   "id": "4de77ee6",
   "metadata": {},
   "source": [
    "# Random forest Hyperparameter Tuning Using Random Search."
   ]
  },
  {
   "cell_type": "code",
   "execution_count": null,
   "id": "a0ad6daf",
   "metadata": {},
   "outputs": [],
   "source": [
    "from sklearn.model_selection import RandomizedSearchCV\n",
    "from sklearn.ensemble import RandomForestRegressor\n",
    "from scipy.stats import randint\n",
    "\n",
    "# Define the Random Forest model\n",
    "rf_model = RandomForestRegressor()\n",
    "\n",
    "# Define hyperparameters grid\n",
    "param_dist = {\n",
    "    'n_estimators': randint(10, 1000),\n",
    "    'max_features': ['auto', 'sqrt', 'log2'],\n",
    "    'max_depth': randint(3, 20),\n",
    "    'min_samples_split': randint(2, 20),\n",
    "    'min_samples_leaf': randint(1, 10),\n",
    "    'bootstrap': [True, False]\n",
    "}\n",
    "\n",
    "# Define RandomizedSearchCV\n",
    "random_search = RandomizedSearchCV(estimator=rf_model, param_distributions=param_dist, n_iter=100,\n",
    "                                   cv=5, verbose=2, random_state=42, n_jobs=-1)\n",
    "\n",
    "# Perform Random Search\n",
    "random_search.fit(X_train, y_train)\n",
    "\n",
    "# Best parameters\n",
    "print(\"Best Parameters:\", random_search.best_params_)\n",
    "\n",
    "# Evaluate the best model\n",
    "best_model = random_search.best_estimator_\n",
    "best_model_score = best_model.score(X_test, y_test)\n",
    "print(\"Best Model Score:\", best_model_score)"
   ]
  },
  {
   "cell_type": "markdown",
   "id": "06d29679",
   "metadata": {},
   "source": [
    "# x - Independent Variabel"
   ]
  },
  {
   "cell_type": "markdown",
   "id": "b5ab034a",
   "metadata": {},
   "source": [
    "# y - Dependent variable"
   ]
  },
  {
   "cell_type": "code",
   "execution_count": null,
   "id": "292e8e93",
   "metadata": {},
   "outputs": [],
   "source": [
    "from sklearn.model_selection import RandomizedSearchCV\n",
    "from sklearn.ensemble import RandomForestRegressor\n",
    "from scipy.stats import randint\n",
    "\n",
    "# Define the Random Forest model\n",
    "rf_model = RandomForestRegressor()\n",
    "\n",
    "# Define hyperparameters grid\n",
    "param_dist = {\n",
    "    'n_estimators': randint(10, 1000),\n",
    "    'max_features': ['auto', 'sqrt', 'log2'],\n",
    "    'max_depth': randint(3, 20),\n",
    "    'min_samples_split': randint(2, 20),\n",
    "    'min_samples_leaf': randint(1, 10),\n",
    "    'bootstrap': [True, False]\n",
    "}\n",
    "\n",
    "# Define RandomizedSearchCV\n",
    "random_search = RandomizedSearchCV(estimator=rf_model, param_distributions=param_dist, n_iter=100,\n",
    "                                   cv=5, verbose=2, random_state=42, n_jobs=-1)\n",
    "\n",
    "# Perform Random Search\n",
    "random_search.fit(X, y)\n",
    "\n",
    "# Best parameters\n",
    "print(\"Best Parameters:\", random_search.best_params_)\n",
    "\n",
    "# Evaluate the best model\n",
    "best_model = random_search.best_estimator_\n",
    "# If you want to evaluate the model, you need to split the data into training and testing sets\n",
    "# and then fit the best model to the training data and evaluate it on the testing data\n",
    "# Example:\n",
    "# best_model.fit(X_train, y_train)\n",
    "# best_model_score = best_model.score(X_test, y_test)\n",
    "# print(\"Best Model Score:\", best_model_sco"
   ]
  },
  {
   "cell_type": "markdown",
   "id": "4eab1ba3",
   "metadata": {},
   "source": [
    "# Split The Data Into Training and Testing\n"
   ]
  },
  {
   "cell_type": "code",
   "execution_count": null,
   "id": "697e34ae",
   "metadata": {},
   "outputs": [],
   "source": [
    "rom sklearn.model_selection import train_test_split\n",
    "\n",
    "# Split the data into training and testing sets\n",
    "X_train, X_test, y_train, y_test = train_test_split(X, y, test_size=0.2, random_state=42)\n",
    "\n",
    "# Print the shapes of the training and testing sets\n",
    "print(\"Training set - Features:\", X_train.shape, \"Labels:\", y_train.shape)\n",
    "print(\"Testing set - Features:\", X_test.shape, \"Labels:\", y_test.shape"
   ]
  },
  {
   "cell_type": "markdown",
   "id": "c252f154",
   "metadata": {},
   "source": [
    "# cross vaildation:"
   ]
  },
  {
   "cell_type": "code",
   "execution_count": null,
   "id": "b84ae94a",
   "metadata": {},
   "outputs": [],
   "source": [
    "from sklearn.model_selection import cross_val_score\n",
    "from sklearn.ensemble import RandomForestRegressor\n",
    "\n",
    "# Define the Random Forest model\n",
    "rf_model = RandomForestRegressor()\n",
    "\n",
    "# Perform cross-validation\n",
    "scores = cross_val_score(rf_model, X, y, cv=5)  # cv=5 means 5-fold cross-validation\n",
    "\n",
    "# Print cross-validation scores\n",
    "print(\"Cross-Validation Scores:\", scores)\n",
    "\n",
    "# Calculate and print the mean score\n",
    "print(\"Mean Score:\", scores.mean())"
   ]
  },
  {
   "cell_type": "markdown",
   "id": "ddc67ccd",
   "metadata": {},
   "source": [
    "# Multiple Model:"
   ]
  },
  {
   "cell_type": "code",
   "execution_count": null,
   "id": "4ccd0153",
   "metadata": {},
   "outputs": [],
   "source": [
    "from sklearn.model_selection import cross_val_score\n",
    "from sklearn.ensemble import RandomForestRegressor\n",
    "from sklearn.linear_model import LinearRegression\n",
    "from sklearn.tree import DecisionTreeRegressor\n",
    "from sklearn.svm import SVR\n",
    "\n",
    "# Define models\n",
    "models = {\n",
    "    'Linear Regression': LinearRegression(),\n",
    "    'Random Forest': RandomForestRegressor(),\n",
    "    'Decision Tree': DecisionTreeRegressor(),\n",
    "    'Support Vector Machine': SVR()\n",
    "}\n",
    "\n",
    "# Perform cross-validation for each model\n",
    "for name, model in models.items():\n",
    "    scores = cross_val_score(model, X, y, cv=5)\n",
    "    print(f\"{name}: Mean score = {scores.mean()}, Standard deviation = {scores.std()}\")"
   ]
  },
  {
   "cell_type": "markdown",
   "id": "ece181bb",
   "metadata": {},
   "source": [
    "# Random Forest Hyperparameter Tuning Using RandomSearch"
   ]
  },
  {
   "cell_type": "code",
   "execution_count": null,
   "id": "fee28c95",
   "metadata": {},
   "outputs": [],
   "source": [
    "from sklearn.model_selection import RandomizedSearchCV\n",
    "from sklearn.ensemble import RandomForestRegressor\n",
    "from scipy.stats import randint\n",
    "\n",
    "# Define the Random Forest model\n",
    "rf_model = RandomForestRegressor()\n",
    "\n",
    "# Define hyperparameters grid\n",
    "param_dist = {\n",
    "    'n_estimators': randint(10, 1000),\n",
    "    'max_features': ['auto', 'sqrt', 'log2'],\n",
    "    'max_depth': randint(3, 20),\n",
    "    'min_samples_split': randint(2, 20),\n",
    "    'min_samples_leaf': randint(1, 10),\n",
    "    'bootstrap': [True, False]\n",
    "}\n",
    "\n",
    "# Define RandomizedSearchCV\n",
    "random_search = RandomizedSearchCV(estimator=rf_model, param_distributions=param_dist, n_iter=100,\n",
    "                                   cv=5, verbose=2, random_state=42, n_jobs=-1)\n",
    "\n",
    "# Perform Random Search\n",
    "random_search.fit(X_train, y_train)\n",
    "\n",
    "# Best parameters\n",
    "print(\"Best Parameters:\", random_search.best_params_)\n",
    "\n",
    "# Evaluate the best model\n",
    "best_model = random_search.best_estimator_\n",
    "best_model_score = best_model.score(X_test, y_test)\n",
    "print(\"Best Model Score:\", best_model_score)"
   ]
  },
  {
   "cell_type": "markdown",
   "id": "69fdffb2",
   "metadata": {},
   "source": [
    "# Customized Predictions:"
   ]
  },
  {
   "cell_type": "code",
   "execution_count": null,
   "id": "e88e6994",
   "metadata": {},
   "outputs": [],
   "source": [
    " #Assuming you have the best model obtained from hyperparameter tuning stored in 'best_model'\n",
    "# Make predictions on new data\n",
    "custom_data = [[...], [...], ...]  # Your custom data here\n",
    "predictions = best_model.predict(custom_data)\n",
    "\n",
    "# Print the predictions\n",
    "print(\"Customized Predictions:\", predictions)"
   ]
  },
  {
   "cell_type": "code",
   "execution_count": null,
   "id": "8f50a671",
   "metadata": {},
   "outputs": [],
   "source": [
    "      age         =  24\n",
    "      sex         =  1\n",
    "      bmi         =  35\n",
    "      children    = 3\n",
    "      snoker      = 1\n",
    "      region      = 3\n",
    "    "
   ]
  },
  {
   "cell_type": "code",
   "execution_count": null,
   "id": "786c2cd9",
   "metadata": {},
   "outputs": [],
   "source": [
    "age1 = std_scalet.transform([24]])\n",
    "bhi1 = std_scalet.transfor ([[35]])\n",
    "cld1 = std_scalet.transfor([[3]])"
   ]
  },
  {
   "cell_type": "code",
   "execution_count": null,
   "id": "b36259b2",
   "metadata": {},
   "outputs": [],
   "source": [
    "print (age1)\n",
    "print (bmi)\n",
    "print (cldi)"
   ]
  },
  {
   "cell_type": "code",
   "execution_count": null,
   "id": "f465752b",
   "metadata": {},
   "outputs": [],
   "source": [
    "[[0.]]\n",
    "[[11.0]]\n",
    "[[-21.]]"
   ]
  },
  {
   "cell_type": "code",
   "execution_count": null,
   "id": "bd81e262",
   "metadata": {},
   "outputs": [],
   "source": [
    "Rf.predict([ages,sex,bmi,cldi,smoker,region])"
   ]
  },
  {
   "cell_type": "code",
   "execution_count": null,
   "id": "5b0574a7",
   "metadata": {},
   "outputs": [],
   "source": []
  },
  {
   "cell_type": "code",
   "execution_count": null,
   "id": "bd81922d",
   "metadata": {},
   "outputs": [],
   "source": []
  },
  {
   "cell_type": "code",
   "execution_count": null,
   "id": "25ac87d1",
   "metadata": {},
   "outputs": [],
   "source": []
  }
 ],
 "metadata": {
  "kernelspec": {
   "display_name": "Python 3 (ipykernel)",
   "language": "python",
   "name": "python3"
  },
  "language_info": {
   "codemirror_mode": {
    "name": "ipython",
    "version": 3
   },
   "file_extension": ".py",
   "mimetype": "text/x-python",
   "name": "python",
   "nbconvert_exporter": "python",
   "pygments_lexer": "ipython3",
   "version": "3.10.9"
  }
 },
 "nbformat": 4,
 "nbformat_minor": 5
}
